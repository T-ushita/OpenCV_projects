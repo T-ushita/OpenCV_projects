{
 "cells": [
  {
   "cell_type": "code",
   "execution_count": 35,
   "metadata": {},
   "outputs": [],
   "source": [
    "# Importing OpenCV\n",
    "import cv2\n",
    "\n",
    "# Importing numpy\n",
    "import numpy as np\n",
    " \n",
    "# Reading the image \n",
    "img = cv2.imread(r\"C:\\Users\\tushi\\Downloads\\PythonGeeks\\low contrast.jpg\",0)\n",
    "\n",
    "# Displaying the original image\n",
    "cv2.imshow('Original', img)\n",
    "cv2.waitKey(0)\n",
    "cv2.destroyAllWindows()\n",
    "\n",
    "# Applying the Histogram equalization using the cv2.equalizeHist() function\n",
    "final_image = cv2.equalizeHist(img)\n",
    "\n",
    "# Displaying the CLAHE image\n",
    "cv2.imshow('Histogram Equalization', final_img)\n",
    "cv2.waitKey(0)\n",
    "cv2.destroyAllWindows()"
   ]
  },
  {
   "cell_type": "code",
   "execution_count": 29,
   "metadata": {},
   "outputs": [],
   "source": [
    "# Importing OpenCV\n",
    "import cv2\n",
    "\n",
    "# Reading the video \n",
    "cap = cv2.VideoCapture(0)\n",
    "\n",
    "while True:\n",
    "    ret,frame = cap.read()\n",
    "    cv2.imshow('frame', frame)\n",
    "    \n",
    "    img_hsv = cv2.cvtColor(frame, cv2.COLOR_RGB2HSV)\n",
    "    \n",
    "    # Histogram equalisation on the V-channel\n",
    "    img_hsv[:, :, 2] = cv2.equalizeHist(img_hsv[:, :, 2])\n",
    "    \n",
    "    # convert image back from HSV to RGB\n",
    "    image = cv2.cvtColor(img_hsv, cv2.COLOR_HSV2RGB)\n",
    "    cv2.imshow('Histogram Equalization',image)\n",
    "    \n",
    "    key = cv2.waitKey(1)\n",
    "    if key == ord('q'):\n",
    "        break\n",
    "    \n",
    "cap.release()    \n",
    "cv2.destroyAllWindows()"
   ]
  },
  {
   "cell_type": "code",
   "execution_count": 16,
   "metadata": {},
   "outputs": [],
   "source": [
    "# Displaying the image\n",
    "cv2.imshow(\"Histogram Equalization\", image)\n",
    "cv2.waitKey(0)\n",
    "cv2.destroyAllWindows()"
   ]
  },
  {
   "cell_type": "code",
   "execution_count": 18,
   "metadata": {},
   "outputs": [],
   "source": [
    "rgb_img = cv2.imread(r\"C:\\Users\\tushi\\Downloads\\PythonGeeks\\deer.png\")\n",
    "\n",
    "# convert from RGB color-space to YCrCb\n",
    "ycrcb_img = cv2.cvtColor(rgb_img, cv2.COLOR_BGR2YCrCb)\n",
    "\n",
    "# equalize the histogram of the Y channel\n",
    "ycrcb_img[:, :, 0] = cv2.equalizeHist(ycrcb_img[:, :, 0])\n",
    "\n",
    "# convert back to RGB color-space from YCrCb\n",
    "equalized_img = cv2.cvtColor(ycrcb_img, cv2.COLOR_YCrCb2BGR)\n",
    "\n",
    "cv2.imshow('equalized_img', equalized_img)\n",
    "cv2.waitKey(0)\n",
    "cv2.destroyAllWindows()"
   ]
  }
 ],
 "metadata": {
  "kernelspec": {
   "display_name": "Python 3",
   "language": "python",
   "name": "python3"
  },
  "language_info": {
   "codemirror_mode": {
    "name": "ipython",
    "version": 3
   },
   "file_extension": ".py",
   "mimetype": "text/x-python",
   "name": "python",
   "nbconvert_exporter": "python",
   "pygments_lexer": "ipython3",
   "version": "3.8.3"
  }
 },
 "nbformat": 4,
 "nbformat_minor": 4
}
