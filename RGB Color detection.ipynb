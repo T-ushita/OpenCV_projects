{
 "cells": [
  {
   "cell_type": "code",
   "execution_count": 61,
   "metadata": {},
   "outputs": [],
   "source": [
    "import cv2 \n",
    "import pandas as pd\n",
    "\n",
    "img = cv2.imread('DATA/original.jpg')\n",
    "type(img)\n",
    "\n",
    "#delaring global variable\n",
    "clicked = False\n",
    "r = g = b = x_pos = y_pos = 0\n",
    "\n",
    "index = ['color','color_name','hex','R','G','B']\n",
    "csv = pd.read_csv('DATA/colors.csv',names=index,header=None)\n",
    "\n",
    "\n",
    "#function to calculate minimum distance from all colors and get matching color\n",
    "def get_color(R,G,B):\n",
    "    minimum = 10000\n",
    "    for i in range(len(csv)):\n",
    "        d = abs(R - int(csv.loc[i,'R'])) + abs(G - int(csv.loc[i,'G'])) + abs(B - int(csv.loc[i,'B']))\n",
    "        if d<=minimum:\n",
    "            minimum = d\n",
    "            cname = csv.loc[i,'color_name']\n",
    "    return cname\n",
    "\n",
    "#function to get x and y coordinates of mouse double click\n",
    "def draw_function(event,x,y,flags,params):\n",
    "    if event == cv2.EVENT_LBUTTONDBLCLK:\n",
    "        global r,g,b,x_pos,y_pos,clicked\n",
    "        clicked = True\n",
    "        x_pos = x\n",
    "        y_pos = y\n",
    "        b,g,r = img[y,x]\n",
    "        b = int(b)\n",
    "        g = int(g)\n",
    "        r = int(r)\n",
    "        \n",
    "cv2.namedWindow('image')\n",
    "cv2.setMouseCallback('image', draw_function)\n",
    "\n",
    "while True:\n",
    "    cv2.imshow('image',img)\n",
    "    if clicked:\n",
    "        \n",
    "        cv2.rectangle(img,(20,20),(750,60),(b,g,r),-1) #rect of the same color at top left corner\n",
    "        text = get_color(r,g,b) + 'R=' + str(r) + 'G=' + str(g) + 'B=' + str(b)\n",
    "        cv2.putText(img,text,(50,50),2,0.8,(255,255,255),2,cv2.LINE_AA)\n",
    "        \n",
    "        if r+g+b >= 600:\n",
    "            cv2.putText(img,text,(50,50),2,0.8,(0,0,0),2,cv2.LINE_AA)\n",
    "            \n",
    "        clicked = False\n",
    "     \n",
    "    key = cv2.waitKey()\n",
    "    if key == ord('q'):\n",
    "        break\n",
    "\n",
    "cv2.destroyAllWindows()"
   ]
  },
  {
   "cell_type": "code",
   "execution_count": null,
   "metadata": {},
   "outputs": [],
   "source": []
  }
 ],
 "metadata": {
  "kernelspec": {
   "display_name": "Python 3",
   "language": "python",
   "name": "python3"
  },
  "language_info": {
   "codemirror_mode": {
    "name": "ipython",
    "version": 3
   },
   "file_extension": ".py",
   "mimetype": "text/x-python",
   "name": "python",
   "nbconvert_exporter": "python",
   "pygments_lexer": "ipython3",
   "version": "3.8.3"
  }
 },
 "nbformat": 4,
 "nbformat_minor": 4
}
